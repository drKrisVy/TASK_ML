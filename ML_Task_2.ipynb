{
  "nbformat": 4,
  "nbformat_minor": 0,
  "metadata": {
    "colab": {
      "provenance": []
    },
    "kernelspec": {
      "name": "python3",
      "display_name": "Python 3"
    },
    "language_info": {
      "name": "python"
    }
  },
  "cells": [
    {
      "cell_type": "code",
      "execution_count": 1,
      "metadata": {
        "colab": {
          "base_uri": "https://localhost:8080/"
        },
        "id": "MUSWfAO7jI3h",
        "outputId": "bd2980f7-f6e3-4fd2-d3fd-319efc936572"
      },
      "outputs": [
        {
          "output_type": "stream",
          "name": "stdout",
          "text": [
            "Requirement already satisfied: langgraph in /usr/local/lib/python3.11/dist-packages (0.4.7)\n",
            "Requirement already satisfied: langchain-core>=0.1 in /usr/local/lib/python3.11/dist-packages (from langgraph) (0.3.59)\n",
            "Requirement already satisfied: langgraph-checkpoint>=2.0.26 in /usr/local/lib/python3.11/dist-packages (from langgraph) (2.0.26)\n",
            "Requirement already satisfied: langgraph-prebuilt>=0.2.0 in /usr/local/lib/python3.11/dist-packages (from langgraph) (0.2.1)\n",
            "Requirement already satisfied: langgraph-sdk>=0.1.42 in /usr/local/lib/python3.11/dist-packages (from langgraph) (0.1.70)\n",
            "Requirement already satisfied: pydantic>=2.7.4 in /usr/local/lib/python3.11/dist-packages (from langgraph) (2.11.4)\n",
            "Requirement already satisfied: xxhash>=3.5.0 in /usr/local/lib/python3.11/dist-packages (from langgraph) (3.5.0)\n",
            "Requirement already satisfied: langsmith<0.4,>=0.1.125 in /usr/local/lib/python3.11/dist-packages (from langchain-core>=0.1->langgraph) (0.3.42)\n",
            "Requirement already satisfied: tenacity!=8.4.0,<10.0.0,>=8.1.0 in /usr/local/lib/python3.11/dist-packages (from langchain-core>=0.1->langgraph) (9.1.2)\n",
            "Requirement already satisfied: jsonpatch<2.0,>=1.33 in /usr/local/lib/python3.11/dist-packages (from langchain-core>=0.1->langgraph) (1.33)\n",
            "Requirement already satisfied: PyYAML>=5.3 in /usr/local/lib/python3.11/dist-packages (from langchain-core>=0.1->langgraph) (6.0.2)\n",
            "Requirement already satisfied: packaging<25,>=23.2 in /usr/local/lib/python3.11/dist-packages (from langchain-core>=0.1->langgraph) (24.2)\n",
            "Requirement already satisfied: typing-extensions>=4.7 in /usr/local/lib/python3.11/dist-packages (from langchain-core>=0.1->langgraph) (4.13.2)\n",
            "Requirement already satisfied: ormsgpack<2.0.0,>=1.8.0 in /usr/local/lib/python3.11/dist-packages (from langgraph-checkpoint>=2.0.26->langgraph) (1.10.0)\n",
            "Requirement already satisfied: httpx>=0.25.2 in /usr/local/lib/python3.11/dist-packages (from langgraph-sdk>=0.1.42->langgraph) (0.28.1)\n",
            "Requirement already satisfied: orjson>=3.10.1 in /usr/local/lib/python3.11/dist-packages (from langgraph-sdk>=0.1.42->langgraph) (3.10.18)\n",
            "Requirement already satisfied: annotated-types>=0.6.0 in /usr/local/lib/python3.11/dist-packages (from pydantic>=2.7.4->langgraph) (0.7.0)\n",
            "Requirement already satisfied: pydantic-core==2.33.2 in /usr/local/lib/python3.11/dist-packages (from pydantic>=2.7.4->langgraph) (2.33.2)\n",
            "Requirement already satisfied: typing-inspection>=0.4.0 in /usr/local/lib/python3.11/dist-packages (from pydantic>=2.7.4->langgraph) (0.4.0)\n",
            "Requirement already satisfied: anyio in /usr/local/lib/python3.11/dist-packages (from httpx>=0.25.2->langgraph-sdk>=0.1.42->langgraph) (4.9.0)\n",
            "Requirement already satisfied: certifi in /usr/local/lib/python3.11/dist-packages (from httpx>=0.25.2->langgraph-sdk>=0.1.42->langgraph) (2025.4.26)\n",
            "Requirement already satisfied: httpcore==1.* in /usr/local/lib/python3.11/dist-packages (from httpx>=0.25.2->langgraph-sdk>=0.1.42->langgraph) (1.0.9)\n",
            "Requirement already satisfied: idna in /usr/local/lib/python3.11/dist-packages (from httpx>=0.25.2->langgraph-sdk>=0.1.42->langgraph) (3.10)\n",
            "Requirement already satisfied: h11>=0.16 in /usr/local/lib/python3.11/dist-packages (from httpcore==1.*->httpx>=0.25.2->langgraph-sdk>=0.1.42->langgraph) (0.16.0)\n",
            "Requirement already satisfied: jsonpointer>=1.9 in /usr/local/lib/python3.11/dist-packages (from jsonpatch<2.0,>=1.33->langchain-core>=0.1->langgraph) (3.0.0)\n",
            "Requirement already satisfied: requests<3,>=2 in /usr/local/lib/python3.11/dist-packages (from langsmith<0.4,>=0.1.125->langchain-core>=0.1->langgraph) (2.32.3)\n",
            "Requirement already satisfied: requests-toolbelt<2.0.0,>=1.0.0 in /usr/local/lib/python3.11/dist-packages (from langsmith<0.4,>=0.1.125->langchain-core>=0.1->langgraph) (1.0.0)\n",
            "Requirement already satisfied: zstandard<0.24.0,>=0.23.0 in /usr/local/lib/python3.11/dist-packages (from langsmith<0.4,>=0.1.125->langchain-core>=0.1->langgraph) (0.23.0)\n",
            "Requirement already satisfied: charset-normalizer<4,>=2 in /usr/local/lib/python3.11/dist-packages (from requests<3,>=2->langsmith<0.4,>=0.1.125->langchain-core>=0.1->langgraph) (3.4.2)\n",
            "Requirement already satisfied: urllib3<3,>=1.21.1 in /usr/local/lib/python3.11/dist-packages (from requests<3,>=2->langsmith<0.4,>=0.1.125->langchain-core>=0.1->langgraph) (2.4.0)\n",
            "Requirement already satisfied: sniffio>=1.1 in /usr/local/lib/python3.11/dist-packages (from anyio->httpx>=0.25.2->langgraph-sdk>=0.1.42->langgraph) (1.3.1)\n"
          ]
        }
      ],
      "source": [
        "!pip install langgraph"
      ]
    },
    {
      "cell_type": "code",
      "source": [
        "!pip install -U langchain-google-genai"
      ],
      "metadata": {
        "colab": {
          "base_uri": "https://localhost:8080/"
        },
        "id": "SN4j6pc-js_M",
        "outputId": "bb17ea22-41f2-43e8-c9e9-1a33b9f65f84"
      },
      "execution_count": 2,
      "outputs": [
        {
          "output_type": "stream",
          "name": "stdout",
          "text": [
            "Requirement already satisfied: langchain-google-genai in /usr/local/lib/python3.11/dist-packages (2.1.4)\n",
            "Requirement already satisfied: filetype<2.0.0,>=1.2.0 in /usr/local/lib/python3.11/dist-packages (from langchain-google-genai) (1.2.0)\n",
            "Requirement already satisfied: google-ai-generativelanguage<0.7.0,>=0.6.18 in /usr/local/lib/python3.11/dist-packages (from langchain-google-genai) (0.6.18)\n",
            "Requirement already satisfied: langchain-core<0.4.0,>=0.3.52 in /usr/local/lib/python3.11/dist-packages (from langchain-google-genai) (0.3.59)\n",
            "Requirement already satisfied: pydantic<3,>=2 in /usr/local/lib/python3.11/dist-packages (from langchain-google-genai) (2.11.4)\n",
            "Requirement already satisfied: google-api-core!=2.0.*,!=2.1.*,!=2.10.*,!=2.2.*,!=2.3.*,!=2.4.*,!=2.5.*,!=2.6.*,!=2.7.*,!=2.8.*,!=2.9.*,<3.0.0,>=1.34.1 in /usr/local/lib/python3.11/dist-packages (from google-api-core[grpc]!=2.0.*,!=2.1.*,!=2.10.*,!=2.2.*,!=2.3.*,!=2.4.*,!=2.5.*,!=2.6.*,!=2.7.*,!=2.8.*,!=2.9.*,<3.0.0,>=1.34.1->google-ai-generativelanguage<0.7.0,>=0.6.18->langchain-google-genai) (2.24.2)\n",
            "Requirement already satisfied: google-auth!=2.24.0,!=2.25.0,<3.0.0,>=2.14.1 in /usr/local/lib/python3.11/dist-packages (from google-ai-generativelanguage<0.7.0,>=0.6.18->langchain-google-genai) (2.38.0)\n",
            "Requirement already satisfied: proto-plus<2.0.0,>=1.22.3 in /usr/local/lib/python3.11/dist-packages (from google-ai-generativelanguage<0.7.0,>=0.6.18->langchain-google-genai) (1.26.1)\n",
            "Requirement already satisfied: protobuf!=4.21.0,!=4.21.1,!=4.21.2,!=4.21.3,!=4.21.4,!=4.21.5,<7.0.0,>=3.20.2 in /usr/local/lib/python3.11/dist-packages (from google-ai-generativelanguage<0.7.0,>=0.6.18->langchain-google-genai) (5.29.4)\n",
            "Requirement already satisfied: langsmith<0.4,>=0.1.125 in /usr/local/lib/python3.11/dist-packages (from langchain-core<0.4.0,>=0.3.52->langchain-google-genai) (0.3.42)\n",
            "Requirement already satisfied: tenacity!=8.4.0,<10.0.0,>=8.1.0 in /usr/local/lib/python3.11/dist-packages (from langchain-core<0.4.0,>=0.3.52->langchain-google-genai) (9.1.2)\n",
            "Requirement already satisfied: jsonpatch<2.0,>=1.33 in /usr/local/lib/python3.11/dist-packages (from langchain-core<0.4.0,>=0.3.52->langchain-google-genai) (1.33)\n",
            "Requirement already satisfied: PyYAML>=5.3 in /usr/local/lib/python3.11/dist-packages (from langchain-core<0.4.0,>=0.3.52->langchain-google-genai) (6.0.2)\n",
            "Requirement already satisfied: packaging<25,>=23.2 in /usr/local/lib/python3.11/dist-packages (from langchain-core<0.4.0,>=0.3.52->langchain-google-genai) (24.2)\n",
            "Requirement already satisfied: typing-extensions>=4.7 in /usr/local/lib/python3.11/dist-packages (from langchain-core<0.4.0,>=0.3.52->langchain-google-genai) (4.13.2)\n",
            "Requirement already satisfied: annotated-types>=0.6.0 in /usr/local/lib/python3.11/dist-packages (from pydantic<3,>=2->langchain-google-genai) (0.7.0)\n",
            "Requirement already satisfied: pydantic-core==2.33.2 in /usr/local/lib/python3.11/dist-packages (from pydantic<3,>=2->langchain-google-genai) (2.33.2)\n",
            "Requirement already satisfied: typing-inspection>=0.4.0 in /usr/local/lib/python3.11/dist-packages (from pydantic<3,>=2->langchain-google-genai) (0.4.0)\n",
            "Requirement already satisfied: googleapis-common-protos<2.0.0,>=1.56.2 in /usr/local/lib/python3.11/dist-packages (from google-api-core!=2.0.*,!=2.1.*,!=2.10.*,!=2.2.*,!=2.3.*,!=2.4.*,!=2.5.*,!=2.6.*,!=2.7.*,!=2.8.*,!=2.9.*,<3.0.0,>=1.34.1->google-api-core[grpc]!=2.0.*,!=2.1.*,!=2.10.*,!=2.2.*,!=2.3.*,!=2.4.*,!=2.5.*,!=2.6.*,!=2.7.*,!=2.8.*,!=2.9.*,<3.0.0,>=1.34.1->google-ai-generativelanguage<0.7.0,>=0.6.18->langchain-google-genai) (1.70.0)\n",
            "Requirement already satisfied: requests<3.0.0,>=2.18.0 in /usr/local/lib/python3.11/dist-packages (from google-api-core!=2.0.*,!=2.1.*,!=2.10.*,!=2.2.*,!=2.3.*,!=2.4.*,!=2.5.*,!=2.6.*,!=2.7.*,!=2.8.*,!=2.9.*,<3.0.0,>=1.34.1->google-api-core[grpc]!=2.0.*,!=2.1.*,!=2.10.*,!=2.2.*,!=2.3.*,!=2.4.*,!=2.5.*,!=2.6.*,!=2.7.*,!=2.8.*,!=2.9.*,<3.0.0,>=1.34.1->google-ai-generativelanguage<0.7.0,>=0.6.18->langchain-google-genai) (2.32.3)\n",
            "Requirement already satisfied: grpcio<2.0dev,>=1.33.2 in /usr/local/lib/python3.11/dist-packages (from google-api-core[grpc]!=2.0.*,!=2.1.*,!=2.10.*,!=2.2.*,!=2.3.*,!=2.4.*,!=2.5.*,!=2.6.*,!=2.7.*,!=2.8.*,!=2.9.*,<3.0.0,>=1.34.1->google-ai-generativelanguage<0.7.0,>=0.6.18->langchain-google-genai) (1.71.0)\n",
            "Requirement already satisfied: grpcio-status<2.0.dev0,>=1.33.2 in /usr/local/lib/python3.11/dist-packages (from google-api-core[grpc]!=2.0.*,!=2.1.*,!=2.10.*,!=2.2.*,!=2.3.*,!=2.4.*,!=2.5.*,!=2.6.*,!=2.7.*,!=2.8.*,!=2.9.*,<3.0.0,>=1.34.1->google-ai-generativelanguage<0.7.0,>=0.6.18->langchain-google-genai) (1.71.0)\n",
            "Requirement already satisfied: cachetools<6.0,>=2.0.0 in /usr/local/lib/python3.11/dist-packages (from google-auth!=2.24.0,!=2.25.0,<3.0.0,>=2.14.1->google-ai-generativelanguage<0.7.0,>=0.6.18->langchain-google-genai) (5.5.2)\n",
            "Requirement already satisfied: pyasn1-modules>=0.2.1 in /usr/local/lib/python3.11/dist-packages (from google-auth!=2.24.0,!=2.25.0,<3.0.0,>=2.14.1->google-ai-generativelanguage<0.7.0,>=0.6.18->langchain-google-genai) (0.4.2)\n",
            "Requirement already satisfied: rsa<5,>=3.1.4 in /usr/local/lib/python3.11/dist-packages (from google-auth!=2.24.0,!=2.25.0,<3.0.0,>=2.14.1->google-ai-generativelanguage<0.7.0,>=0.6.18->langchain-google-genai) (4.9.1)\n",
            "Requirement already satisfied: jsonpointer>=1.9 in /usr/local/lib/python3.11/dist-packages (from jsonpatch<2.0,>=1.33->langchain-core<0.4.0,>=0.3.52->langchain-google-genai) (3.0.0)\n",
            "Requirement already satisfied: httpx<1,>=0.23.0 in /usr/local/lib/python3.11/dist-packages (from langsmith<0.4,>=0.1.125->langchain-core<0.4.0,>=0.3.52->langchain-google-genai) (0.28.1)\n",
            "Requirement already satisfied: orjson<4.0.0,>=3.9.14 in /usr/local/lib/python3.11/dist-packages (from langsmith<0.4,>=0.1.125->langchain-core<0.4.0,>=0.3.52->langchain-google-genai) (3.10.18)\n",
            "Requirement already satisfied: requests-toolbelt<2.0.0,>=1.0.0 in /usr/local/lib/python3.11/dist-packages (from langsmith<0.4,>=0.1.125->langchain-core<0.4.0,>=0.3.52->langchain-google-genai) (1.0.0)\n",
            "Requirement already satisfied: zstandard<0.24.0,>=0.23.0 in /usr/local/lib/python3.11/dist-packages (from langsmith<0.4,>=0.1.125->langchain-core<0.4.0,>=0.3.52->langchain-google-genai) (0.23.0)\n",
            "Requirement already satisfied: anyio in /usr/local/lib/python3.11/dist-packages (from httpx<1,>=0.23.0->langsmith<0.4,>=0.1.125->langchain-core<0.4.0,>=0.3.52->langchain-google-genai) (4.9.0)\n",
            "Requirement already satisfied: certifi in /usr/local/lib/python3.11/dist-packages (from httpx<1,>=0.23.0->langsmith<0.4,>=0.1.125->langchain-core<0.4.0,>=0.3.52->langchain-google-genai) (2025.4.26)\n",
            "Requirement already satisfied: httpcore==1.* in /usr/local/lib/python3.11/dist-packages (from httpx<1,>=0.23.0->langsmith<0.4,>=0.1.125->langchain-core<0.4.0,>=0.3.52->langchain-google-genai) (1.0.9)\n",
            "Requirement already satisfied: idna in /usr/local/lib/python3.11/dist-packages (from httpx<1,>=0.23.0->langsmith<0.4,>=0.1.125->langchain-core<0.4.0,>=0.3.52->langchain-google-genai) (3.10)\n",
            "Requirement already satisfied: h11>=0.16 in /usr/local/lib/python3.11/dist-packages (from httpcore==1.*->httpx<1,>=0.23.0->langsmith<0.4,>=0.1.125->langchain-core<0.4.0,>=0.3.52->langchain-google-genai) (0.16.0)\n",
            "Requirement already satisfied: pyasn1<0.7.0,>=0.6.1 in /usr/local/lib/python3.11/dist-packages (from pyasn1-modules>=0.2.1->google-auth!=2.24.0,!=2.25.0,<3.0.0,>=2.14.1->google-ai-generativelanguage<0.7.0,>=0.6.18->langchain-google-genai) (0.6.1)\n",
            "Requirement already satisfied: charset-normalizer<4,>=2 in /usr/local/lib/python3.11/dist-packages (from requests<3.0.0,>=2.18.0->google-api-core!=2.0.*,!=2.1.*,!=2.10.*,!=2.2.*,!=2.3.*,!=2.4.*,!=2.5.*,!=2.6.*,!=2.7.*,!=2.8.*,!=2.9.*,<3.0.0,>=1.34.1->google-api-core[grpc]!=2.0.*,!=2.1.*,!=2.10.*,!=2.2.*,!=2.3.*,!=2.4.*,!=2.5.*,!=2.6.*,!=2.7.*,!=2.8.*,!=2.9.*,<3.0.0,>=1.34.1->google-ai-generativelanguage<0.7.0,>=0.6.18->langchain-google-genai) (3.4.2)\n",
            "Requirement already satisfied: urllib3<3,>=1.21.1 in /usr/local/lib/python3.11/dist-packages (from requests<3.0.0,>=2.18.0->google-api-core!=2.0.*,!=2.1.*,!=2.10.*,!=2.2.*,!=2.3.*,!=2.4.*,!=2.5.*,!=2.6.*,!=2.7.*,!=2.8.*,!=2.9.*,<3.0.0,>=1.34.1->google-api-core[grpc]!=2.0.*,!=2.1.*,!=2.10.*,!=2.2.*,!=2.3.*,!=2.4.*,!=2.5.*,!=2.6.*,!=2.7.*,!=2.8.*,!=2.9.*,<3.0.0,>=1.34.1->google-ai-generativelanguage<0.7.0,>=0.6.18->langchain-google-genai) (2.4.0)\n",
            "Requirement already satisfied: sniffio>=1.1 in /usr/local/lib/python3.11/dist-packages (from anyio->httpx<1,>=0.23.0->langsmith<0.4,>=0.1.125->langchain-core<0.4.0,>=0.3.52->langchain-google-genai) (1.3.1)\n"
          ]
        }
      ]
    },
    {
      "cell_type": "code",
      "source": [
        "!pip install dotenv"
      ],
      "metadata": {
        "colab": {
          "base_uri": "https://localhost:8080/"
        },
        "id": "Mh_HAeHcj2_g",
        "outputId": "0ad50c97-ea79-484d-e2c1-6df22eae8ce6"
      },
      "execution_count": 3,
      "outputs": [
        {
          "output_type": "stream",
          "name": "stdout",
          "text": [
            "Requirement already satisfied: dotenv in /usr/local/lib/python3.11/dist-packages (0.9.9)\n",
            "Requirement already satisfied: python-dotenv in /usr/local/lib/python3.11/dist-packages (from dotenv) (1.1.0)\n"
          ]
        }
      ]
    },
    {
      "cell_type": "code",
      "source": [
        "!pip install langchain_community"
      ],
      "metadata": {
        "colab": {
          "base_uri": "https://localhost:8080/"
        },
        "id": "R-85iuqmj7Kb",
        "outputId": "3b51dfc7-4131-4a28-bd52-5c6dfb2e3e6d"
      },
      "execution_count": 4,
      "outputs": [
        {
          "output_type": "stream",
          "name": "stdout",
          "text": [
            "Requirement already satisfied: langchain_community in /usr/local/lib/python3.11/dist-packages (0.3.24)\n",
            "Requirement already satisfied: langchain-core<1.0.0,>=0.3.59 in /usr/local/lib/python3.11/dist-packages (from langchain_community) (0.3.59)\n",
            "Requirement already satisfied: langchain<1.0.0,>=0.3.25 in /usr/local/lib/python3.11/dist-packages (from langchain_community) (0.3.25)\n",
            "Requirement already satisfied: SQLAlchemy<3,>=1.4 in /usr/local/lib/python3.11/dist-packages (from langchain_community) (2.0.40)\n",
            "Requirement already satisfied: requests<3,>=2 in /usr/local/lib/python3.11/dist-packages (from langchain_community) (2.32.3)\n",
            "Requirement already satisfied: PyYAML>=5.3 in /usr/local/lib/python3.11/dist-packages (from langchain_community) (6.0.2)\n",
            "Requirement already satisfied: aiohttp<4.0.0,>=3.8.3 in /usr/local/lib/python3.11/dist-packages (from langchain_community) (3.11.15)\n",
            "Requirement already satisfied: tenacity!=8.4.0,<10,>=8.1.0 in /usr/local/lib/python3.11/dist-packages (from langchain_community) (9.1.2)\n",
            "Requirement already satisfied: dataclasses-json<0.7,>=0.5.7 in /usr/local/lib/python3.11/dist-packages (from langchain_community) (0.6.7)\n",
            "Requirement already satisfied: pydantic-settings<3.0.0,>=2.4.0 in /usr/local/lib/python3.11/dist-packages (from langchain_community) (2.9.1)\n",
            "Requirement already satisfied: langsmith<0.4,>=0.1.125 in /usr/local/lib/python3.11/dist-packages (from langchain_community) (0.3.42)\n",
            "Requirement already satisfied: httpx-sse<1.0.0,>=0.4.0 in /usr/local/lib/python3.11/dist-packages (from langchain_community) (0.4.0)\n",
            "Requirement already satisfied: numpy>=1.26.2 in /usr/local/lib/python3.11/dist-packages (from langchain_community) (2.0.2)\n",
            "Requirement already satisfied: aiohappyeyeballs>=2.3.0 in /usr/local/lib/python3.11/dist-packages (from aiohttp<4.0.0,>=3.8.3->langchain_community) (2.6.1)\n",
            "Requirement already satisfied: aiosignal>=1.1.2 in /usr/local/lib/python3.11/dist-packages (from aiohttp<4.0.0,>=3.8.3->langchain_community) (1.3.2)\n",
            "Requirement already satisfied: attrs>=17.3.0 in /usr/local/lib/python3.11/dist-packages (from aiohttp<4.0.0,>=3.8.3->langchain_community) (25.3.0)\n",
            "Requirement already satisfied: frozenlist>=1.1.1 in /usr/local/lib/python3.11/dist-packages (from aiohttp<4.0.0,>=3.8.3->langchain_community) (1.6.0)\n",
            "Requirement already satisfied: multidict<7.0,>=4.5 in /usr/local/lib/python3.11/dist-packages (from aiohttp<4.0.0,>=3.8.3->langchain_community) (6.4.3)\n",
            "Requirement already satisfied: propcache>=0.2.0 in /usr/local/lib/python3.11/dist-packages (from aiohttp<4.0.0,>=3.8.3->langchain_community) (0.3.1)\n",
            "Requirement already satisfied: yarl<2.0,>=1.17.0 in /usr/local/lib/python3.11/dist-packages (from aiohttp<4.0.0,>=3.8.3->langchain_community) (1.20.0)\n",
            "Requirement already satisfied: marshmallow<4.0.0,>=3.18.0 in /usr/local/lib/python3.11/dist-packages (from dataclasses-json<0.7,>=0.5.7->langchain_community) (3.26.1)\n",
            "Requirement already satisfied: typing-inspect<1,>=0.4.0 in /usr/local/lib/python3.11/dist-packages (from dataclasses-json<0.7,>=0.5.7->langchain_community) (0.9.0)\n",
            "Requirement already satisfied: langchain-text-splitters<1.0.0,>=0.3.8 in /usr/local/lib/python3.11/dist-packages (from langchain<1.0.0,>=0.3.25->langchain_community) (0.3.8)\n",
            "Requirement already satisfied: pydantic<3.0.0,>=2.7.4 in /usr/local/lib/python3.11/dist-packages (from langchain<1.0.0,>=0.3.25->langchain_community) (2.11.4)\n",
            "Requirement already satisfied: jsonpatch<2.0,>=1.33 in /usr/local/lib/python3.11/dist-packages (from langchain-core<1.0.0,>=0.3.59->langchain_community) (1.33)\n",
            "Requirement already satisfied: packaging<25,>=23.2 in /usr/local/lib/python3.11/dist-packages (from langchain-core<1.0.0,>=0.3.59->langchain_community) (24.2)\n",
            "Requirement already satisfied: typing-extensions>=4.7 in /usr/local/lib/python3.11/dist-packages (from langchain-core<1.0.0,>=0.3.59->langchain_community) (4.13.2)\n",
            "Requirement already satisfied: httpx<1,>=0.23.0 in /usr/local/lib/python3.11/dist-packages (from langsmith<0.4,>=0.1.125->langchain_community) (0.28.1)\n",
            "Requirement already satisfied: orjson<4.0.0,>=3.9.14 in /usr/local/lib/python3.11/dist-packages (from langsmith<0.4,>=0.1.125->langchain_community) (3.10.18)\n",
            "Requirement already satisfied: requests-toolbelt<2.0.0,>=1.0.0 in /usr/local/lib/python3.11/dist-packages (from langsmith<0.4,>=0.1.125->langchain_community) (1.0.0)\n",
            "Requirement already satisfied: zstandard<0.24.0,>=0.23.0 in /usr/local/lib/python3.11/dist-packages (from langsmith<0.4,>=0.1.125->langchain_community) (0.23.0)\n",
            "Requirement already satisfied: python-dotenv>=0.21.0 in /usr/local/lib/python3.11/dist-packages (from pydantic-settings<3.0.0,>=2.4.0->langchain_community) (1.1.0)\n",
            "Requirement already satisfied: typing-inspection>=0.4.0 in /usr/local/lib/python3.11/dist-packages (from pydantic-settings<3.0.0,>=2.4.0->langchain_community) (0.4.0)\n",
            "Requirement already satisfied: charset-normalizer<4,>=2 in /usr/local/lib/python3.11/dist-packages (from requests<3,>=2->langchain_community) (3.4.2)\n",
            "Requirement already satisfied: idna<4,>=2.5 in /usr/local/lib/python3.11/dist-packages (from requests<3,>=2->langchain_community) (3.10)\n",
            "Requirement already satisfied: urllib3<3,>=1.21.1 in /usr/local/lib/python3.11/dist-packages (from requests<3,>=2->langchain_community) (2.4.0)\n",
            "Requirement already satisfied: certifi>=2017.4.17 in /usr/local/lib/python3.11/dist-packages (from requests<3,>=2->langchain_community) (2025.4.26)\n",
            "Requirement already satisfied: greenlet>=1 in /usr/local/lib/python3.11/dist-packages (from SQLAlchemy<3,>=1.4->langchain_community) (3.2.2)\n",
            "Requirement already satisfied: anyio in /usr/local/lib/python3.11/dist-packages (from httpx<1,>=0.23.0->langsmith<0.4,>=0.1.125->langchain_community) (4.9.0)\n",
            "Requirement already satisfied: httpcore==1.* in /usr/local/lib/python3.11/dist-packages (from httpx<1,>=0.23.0->langsmith<0.4,>=0.1.125->langchain_community) (1.0.9)\n",
            "Requirement already satisfied: h11>=0.16 in /usr/local/lib/python3.11/dist-packages (from httpcore==1.*->httpx<1,>=0.23.0->langsmith<0.4,>=0.1.125->langchain_community) (0.16.0)\n",
            "Requirement already satisfied: jsonpointer>=1.9 in /usr/local/lib/python3.11/dist-packages (from jsonpatch<2.0,>=1.33->langchain-core<1.0.0,>=0.3.59->langchain_community) (3.0.0)\n",
            "Requirement already satisfied: annotated-types>=0.6.0 in /usr/local/lib/python3.11/dist-packages (from pydantic<3.0.0,>=2.7.4->langchain<1.0.0,>=0.3.25->langchain_community) (0.7.0)\n",
            "Requirement already satisfied: pydantic-core==2.33.2 in /usr/local/lib/python3.11/dist-packages (from pydantic<3.0.0,>=2.7.4->langchain<1.0.0,>=0.3.25->langchain_community) (2.33.2)\n",
            "Requirement already satisfied: mypy-extensions>=0.3.0 in /usr/local/lib/python3.11/dist-packages (from typing-inspect<1,>=0.4.0->dataclasses-json<0.7,>=0.5.7->langchain_community) (1.1.0)\n",
            "Requirement already satisfied: sniffio>=1.1 in /usr/local/lib/python3.11/dist-packages (from anyio->httpx<1,>=0.23.0->langsmith<0.4,>=0.1.125->langchain_community) (1.3.1)\n"
          ]
        }
      ]
    },
    {
      "cell_type": "code",
      "source": [
        "!pip install pyowm"
      ],
      "metadata": {
        "colab": {
          "base_uri": "https://localhost:8080/"
        },
        "id": "g-4zW5juj_jV",
        "outputId": "10c22f4b-dd04-4ef0-cfbc-61bc853a4dda"
      },
      "execution_count": 5,
      "outputs": [
        {
          "output_type": "stream",
          "name": "stdout",
          "text": [
            "Requirement already satisfied: pyowm in /usr/local/lib/python3.11/dist-packages (3.3.0)\n",
            "Requirement already satisfied: requests<3,>=2.20.0 in /usr/local/lib/python3.11/dist-packages (from pyowm) (2.32.3)\n",
            "Requirement already satisfied: geojson<3,>=2.3.0 in /usr/local/lib/python3.11/dist-packages (from pyowm) (2.5.0)\n",
            "Requirement already satisfied: PySocks<2,>=1.7.1 in /usr/local/lib/python3.11/dist-packages (from pyowm) (1.7.1)\n",
            "Requirement already satisfied: charset-normalizer<4,>=2 in /usr/local/lib/python3.11/dist-packages (from requests<3,>=2.20.0->pyowm) (3.4.2)\n",
            "Requirement already satisfied: idna<4,>=2.5 in /usr/local/lib/python3.11/dist-packages (from requests<3,>=2.20.0->pyowm) (3.10)\n",
            "Requirement already satisfied: urllib3<3,>=1.21.1 in /usr/local/lib/python3.11/dist-packages (from requests<3,>=2.20.0->pyowm) (2.4.0)\n",
            "Requirement already satisfied: certifi>=2017.4.17 in /usr/local/lib/python3.11/dist-packages (from requests<3,>=2.20.0->pyowm) (2025.4.26)\n"
          ]
        }
      ]
    },
    {
      "cell_type": "code",
      "source": [
        "from typing import Annotated, Sequence, TypedDict\n",
        "from dotenv import load_dotenv\n",
        "from langchain_core.messages import BaseMessage, ToolMessage, SystemMessage\n",
        "from langchain_google_genai import ChatGoogleGenerativeAI\n",
        "from langchain_core.tools import tool\n",
        "from langgraph.graph.message import add_messages\n",
        "from langgraph.graph import StateGraph, END\n",
        "from langgraph.prebuilt import ToolNode\n",
        "from langchain_community.tools.tavily_search import TavilySearchResults\n",
        "from langchain_community.tools.openweathermap import OpenWeatherMapQueryRun\n",
        "from langchain.agents.format_scratchpad.openai_tools import format_to_openai_tool_messages\n",
        "from langchain_core.runnables import RunnableConfig\n",
        "import os\n",
        "from langchain_community.utilities.openweathermap import OpenWeatherMapAPIWrapper\n"
      ],
      "metadata": {
        "id": "n6ZjWPs0kEt7"
      },
      "execution_count": 6,
      "outputs": []
    },
    {
      "cell_type": "code",
      "source": [
        "load_dotenv()\n",
        "\n",
        "class AgentState(TypedDict):\n",
        "    messages: Annotated[Sequence[BaseMessage], add_messages]"
      ],
      "metadata": {
        "id": "uXiC-_uykJrK"
      },
      "execution_count": 7,
      "outputs": []
    },
    {
      "cell_type": "code",
      "source": [
        "#BODMAS Tool\n",
        "@tool\n",
        "def add(a: int, b: int) -> int:\n",
        "    \"\"\"Add two numbers.\"\"\"\n",
        "    return a + b\n",
        "\n",
        "@tool\n",
        "def subtract(a: int, b: int) -> int:\n",
        "    \"\"\"Subtract b from a.\"\"\"\n",
        "    return a - b\n",
        "\n",
        "@tool\n",
        "def multiply(a: int, b: int) -> int:\n",
        "    \"\"\"Multiply two numbers.\"\"\"\n",
        "    return a * b\n"
      ],
      "metadata": {
        "id": "vc2f8QpikNjL"
      },
      "execution_count": 8,
      "outputs": []
    },
    {
      "cell_type": "code",
      "source": [
        "#Weather Tool\n",
        "weather_api = OpenWeatherMapAPIWrapper(openweathermap_api_key=\"c93e14fc56bcdbf2157301afebf1ed11\")\n",
        "weather_tool = OpenWeatherMapQueryRun(api_wrapper=weather_api)\n"
      ],
      "metadata": {
        "id": "pUjBjPGHkSn6"
      },
      "execution_count": 9,
      "outputs": []
    },
    {
      "cell_type": "code",
      "source": [
        "@tool\n",
        "def fashion_recommender(location: str) -> str:\n",
        "    \"\"\"Recommends trending fashion\"\"\"\n",
        "    trends = {\n",
        "        \"tokyo\": \"Oversized techwear sneakers\",\n",
        "        \"paris\": \"Trench coats\",\n",
        "        \"new york\": \"Streetwear\",\n",
        "    }\n",
        "    location = location.lower()\n",
        "    if location in trends:\n",
        "      result = trends[location]\n",
        "    else:\n",
        "      result = \"Sorry, fashion trends for this location are unavailable.\"\n",
        "    return result"
      ],
      "metadata": {
        "id": "Qr-3KV4vkbBz"
      },
      "execution_count": 10,
      "outputs": []
    },
    {
      "cell_type": "code",
      "source": [
        "@tool\n",
        "def evaluate_expression(expression: str) -> str:\n",
        "    \"\"\"Evaluate a basic math expression\"\"\"\n",
        "    try:\n",
        "        if all(c in \"0123456789+-*/. ()\" for c in expression):\n",
        "            return str(eval(expression))\n",
        "        return \"Invalid characters in expression\"\n",
        "    except Exception as e:\n",
        "        return f\"Error evaluating expression: {str(e)}\""
      ],
      "metadata": {
        "id": "Zg6vUOeypOD6"
      },
      "execution_count": 11,
      "outputs": []
    },
    {
      "cell_type": "code",
      "source": [
        "#Register Tools\n",
        "tools = [add, subtract, multiply, fashion_recommender, weather_tool, evaluate_expression]"
      ],
      "metadata": {
        "id": "fa2Yr8Zrkw7p"
      },
      "execution_count": 12,
      "outputs": []
    },
    {
      "cell_type": "code",
      "source": [
        "#LLM Setup\n",
        "import os\n",
        "from getpass import getpass\n",
        "\n",
        "os.environ[\"GOOGLE_API_KEY\"] = getpass(\"Enter your Gemini API key: \")\n",
        "model = ChatGoogleGenerativeAI(model=\"gemini-2.0-flash\", google_api_key=os.environ[\"GOOGLE_API_KEY\"]).bind_tools(tools)\n"
      ],
      "metadata": {
        "colab": {
          "base_uri": "https://localhost:8080/"
        },
        "id": "iFRU2zECk3sN",
        "outputId": "a8401c2d-d740-4f77-aef9-53a652ff16d2"
      },
      "execution_count": 13,
      "outputs": [
        {
          "name": "stdout",
          "output_type": "stream",
          "text": [
            "Enter your Gemini API key: ··········\n"
          ]
        }
      ]
    },
    {
      "cell_type": "code",
      "source": [
        "def model_call(state: AgentState) -> AgentState:\n",
        "    system_prompt = SystemMessage(\n",
        "        content=\"You can calculate expressions, fetch weather data, and recommend fashion based on locations.\"\n",
        "    )\n",
        "    response = model.invoke([system_prompt] + state[\"messages\"])\n",
        "    return {\"messages\": [response]}"
      ],
      "metadata": {
        "id": "9uU9AsCsk99o"
      },
      "execution_count": 14,
      "outputs": []
    },
    {
      "cell_type": "code",
      "source": [
        "#Routing Decision\n",
        "def should_continue(state: AgentState):\n",
        "    messages = state[\"messages\"]\n",
        "    last_message = messages[-1]\n",
        "    if hasattr(last_message, \"tool_calls\") and last_message.tool_calls:\n",
        "        return \"continue\"\n",
        "    return \"end\""
      ],
      "metadata": {
        "id": "Dox3JwMylK4L"
      },
      "execution_count": 15,
      "outputs": []
    },
    {
      "cell_type": "code",
      "source": [
        "#LangGraph Construction\n",
        "graph = StateGraph(AgentState)\n",
        "graph.add_node(\"chatbot\", model_call)\n",
        "graph.add_node(\"tools\", ToolNode(tools=tools))\n",
        "\n",
        "graph.set_entry_point(\"chatbot\")\n",
        "graph.add_conditional_edges(\n",
        "    \"chatbot\",\n",
        "    should_continue,\n",
        "    {\n",
        "        \"continue\": \"tools\",\n",
        "        \"end\": END\n",
        "    },\n",
        ")\n",
        "graph.add_edge(\"tools\", \"chatbot\")\n",
        "\n",
        "app = graph.compile()"
      ],
      "metadata": {
        "id": "3UxpHVGWlPpk"
      },
      "execution_count": 16,
      "outputs": []
    },
    {
      "cell_type": "code",
      "source": [
        "from IPython.display import Image, display\n",
        "display(Image(app.get_graph().draw_mermaid_png()))"
      ],
      "metadata": {
        "colab": {
          "base_uri": "https://localhost:8080/",
          "height": 290
        },
        "id": "3ssT6_lplY_9",
        "outputId": "4d8fc738-d6c8-4f2c-a082-6864a0b278f2"
      },
      "execution_count": 17,
      "outputs": [
        {
          "output_type": "display_data",
          "data": {
            "image/png": "[encoded data removed]",
            "text/plain": [
              "<IPython.core.display.Image object>"
            ]
          },
          "metadata": {}
        }
      ]
    },
    {
      "cell_type": "code",
      "source": [
        "def print_stream(stream):\n",
        "    for s in stream:\n",
        "        message = s[\"messages\"][-1]\n",
        "        if isinstance(message, tuple):\n",
        "            print(message)\n",
        "        else:\n",
        "            message.pretty_print()"
      ],
      "metadata": {
        "id": "XsYBzaNHlUbS"
      },
      "execution_count": 18,
      "outputs": []
    },
    {
      "cell_type": "code",
      "source": [
        "inputs = {\"messages\": [(\"user\", \"Add 40 + 12 and then multiply the result by 6. Also tell me a joke please.\")]}\n",
        "print_stream(app.stream(inputs, stream_mode=\"values\"))\n",
        "\n",
        "inputs = {\"messages\": [(\"user\", \"What's the weather in Tokyo?\")]}\n",
        "print_stream(app.stream(inputs, stream_mode=\"values\"))\n",
        "\n",
        "inputs = {\"messages\": [(\"user\", \"What’s trending in Paris fashion?\")]}\n",
        "print_stream(app.stream(inputs, stream_mode=\"values\"))\n",
        "\n",
        "inputs = {\"messages\": [(\"user\", \"Multiply 7 and 8\")]}\n",
        "print_stream(app.stream(inputs, stream_mode=\"values\"))\n",
        "\n",
        "inputs = {\"messages\": [(\"user\", \"Add 10 + 2 * 3\")]}\n",
        "print_stream(app.stream(inputs, stream_mode=\"values\"))"
      ],
      "metadata": {
        "colab": {
          "base_uri": "https://localhost:8080/"
        },
        "id": "QJQKJMMEldQw",
        "outputId": "820a1dff-b376-45f0-855d-2f394de16126"
      },
      "execution_count": 19,
      "outputs": [
        {
          "output_type": "stream",
          "name": "stdout",
          "text": [
            "================================\u001b[1m Human Message \u001b[0m=================================\n",
            "\n",
            "Add 40 + 12 and then multiply the result by 6. Also tell me a joke please.\n",
            "==================================\u001b[1m Ai Message \u001b[0m==================================\n",
            "Tool Calls:\n",
            "  add (568c998b-1c6d-4082-8ca8-5df4ddb826ad)\n",
            " Call ID: 568c998b-1c6d-4082-8ca8-5df4ddb826ad\n",
            "  Args:\n",
            "    a: 40.0\n",
            "    b: 12.0\n",
            "=================================\u001b[1m Tool Message \u001b[0m=================================\n",
            "Name: add\n",
            "\n",
            "52\n",
            "==================================\u001b[1m Ai Message \u001b[0m==================================\n",
            "Tool Calls:\n",
            "  multiply (357e7fbb-9f9a-44c9-9c80-bbb85213e693)\n",
            " Call ID: 357e7fbb-9f9a-44c9-9c80-bbb85213e693\n",
            "  Args:\n",
            "    a: 52.0\n",
            "    b: 6.0\n",
            "=================================\u001b[1m Tool Message \u001b[0m=================================\n",
            "Name: multiply\n",
            "\n",
            "312\n",
            "==================================\u001b[1m Ai Message \u001b[0m==================================\n",
            "\n",
            "Okay, 40 + 12 equals 52, and 52 multiplied by 6 equals 312.\n",
            "\n",
            "Here's a joke for you: Why don't scientists trust atoms? Because they make up everything!\n",
            "================================\u001b[1m Human Message \u001b[0m=================================\n",
            "\n",
            "What's the weather in Tokyo?\n",
            "==================================\u001b[1m Ai Message \u001b[0m==================================\n",
            "Tool Calls:\n",
            "  open_weather_map (00d769fd-573b-4dc5-95b1-3c9390d8c505)\n",
            " Call ID: 00d769fd-573b-4dc5-95b1-3c9390d8c505\n",
            "  Args:\n",
            "    location: Tokyo\n",
            "=================================\u001b[1m Tool Message \u001b[0m=================================\n",
            "Name: open_weather_map\n",
            "\n",
            "In Tokyo, the current weather is as follows:\n",
            "Detailed status: broken clouds\n",
            "Wind speed: 7.2 m/s, direction: 360°\n",
            "Humidity: 52%\n",
            "Temperature: \n",
            "  - Current: 18.38°C\n",
            "  - High: 18.79°C\n",
            "  - Low: 17.01°C\n",
            "  - Feels like: 17.63°C\n",
            "Rain: {}\n",
            "Heat index: None\n",
            "Cloud cover: 75%\n",
            "==================================\u001b[1m Ai Message \u001b[0m==================================\n",
            "\n",
            "OK. The current weather in Tokyo is broken clouds. The wind speed is 7.2 m/s, direction: 360°. The humidity is 52%. The temperature is 18.38°C, with a high of 18.79°C and a low of 17.01°C. It feels like 17.63°C. The cloud cover is 75%.\n",
            "================================\u001b[1m Human Message \u001b[0m=================================\n",
            "\n",
            "What’s trending in Paris fashion?\n",
            "==================================\u001b[1m Ai Message \u001b[0m==================================\n",
            "Tool Calls:\n",
            "  fashion_recommender (562049a4-9f83-47c6-b503-52d2e4b008ad)\n",
            " Call ID: 562049a4-9f83-47c6-b503-52d2e4b008ad\n",
            "  Args:\n",
            "    location: Paris\n",
            "=================================\u001b[1m Tool Message \u001b[0m=================================\n",
            "Name: fashion_recommender\n",
            "\n",
            "Trench coats\n",
            "==================================\u001b[1m Ai Message \u001b[0m==================================\n",
            "\n",
            "Trench coats are trending in Paris.\n",
            "================================\u001b[1m Human Message \u001b[0m=================================\n",
            "\n",
            "Multiply 7 and 8\n",
            "==================================\u001b[1m Ai Message \u001b[0m==================================\n",
            "Tool Calls:\n",
            "  multiply (45efacbc-bc36-4f97-9709-578c11909b75)\n",
            " Call ID: 45efacbc-bc36-4f97-9709-578c11909b75\n",
            "  Args:\n",
            "    a: 7.0\n",
            "    b: 8.0\n",
            "=================================\u001b[1m Tool Message \u001b[0m=================================\n",
            "Name: multiply\n",
            "\n",
            "56\n",
            "==================================\u001b[1m Ai Message \u001b[0m==================================\n",
            "\n",
            "The result of multiplying 7 and 8 is 56.\n",
            "================================\u001b[1m Human Message \u001b[0m=================================\n",
            "\n",
            "Add 10 + 2 * 3\n",
            "==================================\u001b[1m Ai Message \u001b[0m==================================\n",
            "Tool Calls:\n",
            "  evaluate_expression (3ecad22e-9cdd-4353-af74-c851b8d2a44d)\n",
            " Call ID: 3ecad22e-9cdd-4353-af74-c851b8d2a44d\n",
            "  Args:\n",
            "    expression: 10 + 2 * 3\n",
            "=================================\u001b[1m Tool Message \u001b[0m=================================\n",
            "Name: evaluate_expression\n",
            "\n",
            "16\n",
            "==================================\u001b[1m Ai Message \u001b[0m==================================\n",
            "\n",
            "10 + 2 * 3 is 16.\n"
          ]
        }
      ]
    },
    {
      "cell_type": "code",
      "source": [
        "from langchain_core.messages import HumanMessage\n",
        "conversation_history = []\n",
        "\n",
        "while True:\n",
        "    user_input = input(\"You: \")\n",
        "    if user_input.lower() == \"exit\":\n",
        "        break\n",
        "    conversation_history.append(HumanMessage(content=user_input))\n",
        "\n",
        "    inputs = {\"messages\": conversation_history}\n",
        "\n",
        "    stream = app.stream(inputs, stream_mode=\"values\")\n",
        "\n",
        "    for step in stream:\n",
        "        messages = step[\"messages\"]\n",
        "        last_msg = messages[-1]\n",
        "        conversation_history = messages\n",
        "        if hasattr(last_msg, \"content\") and last_msg.content:\n",
        "            print(f\"AI: {last_msg.content}\")\n"
      ],
      "metadata": {
        "colab": {
          "base_uri": "https://localhost:8080/"
        },
        "id": "rr1XR7X6mRUp",
        "outputId": "b930b874-bb2b-46d4-c4b7-712506a79834"
      },
      "execution_count": 20,
      "outputs": [
        {
          "name": "stdout",
          "output_type": "stream",
          "text": [
            "You: Hey, I am steve\n",
            "AI: Hey, I am steve\n",
            "AI: Hey Steve! How can I help you today?\n",
            "You: weather in tokyo\n",
            "AI: weather in tokyo\n",
            "AI: In tokyo, the current weather is as follows:\n",
            "Detailed status: broken clouds\n",
            "Wind speed: 7.2 m/s, direction: 360°\n",
            "Humidity: 52%\n",
            "Temperature: \n",
            "  - Current: 18.38°C\n",
            "  - High: 18.79°C\n",
            "  - Low: 17.01°C\n",
            "  - Feels like: 17.63°C\n",
            "Rain: {}\n",
            "Heat index: None\n",
            "Cloud cover: 75%\n",
            "AI: OK. The current weather in Tokyo is: Detailed status: broken clouds, Wind speed: 7.2 m/s, direction: 360°, Humidity: 52%, Temperature: Current: 18.38°C, High: 18.79°C, Low: 17.01°C, Feels like: 17.63°C, Cloud cover: 75%.\n",
            "You: fashion trend in tokyo\n",
            "AI: fashion trend in tokyo\n",
            "AI: Oversized techwear sneakers\n",
            "AI: I recommend oversized techwear sneakers.\n",
            "You: 10*9*7+9-10\n",
            "AI: 10*9*7+9-10\n",
            "AI: 629\n",
            "AI: 10*9*7+9-10 = 629\n",
            "You: thanks\n",
            "AI: thanks\n",
            "AI: You're welcome! Is there anything else I can help you with today?\n",
            "You: exit\n"
          ]
        }
      ]
    },
    {
      "cell_type": "markdown",
      "source": [
        "#Level - 4(tried)\n"
      ],
      "metadata": {
        "id": "vyZBDXgPvuEQ"
      }
    },
    {
      "cell_type": "code",
      "source": [
        "researcher_tools = []\n",
        "analyst_tools = [add, subtract, multiply, evaluate_expression]\n",
        "decision_maker_tools = [fashion_recommender, weather_tool]"
      ],
      "metadata": {
        "id": "Zfo_2RlkrCaA"
      },
      "execution_count": 21,
      "outputs": []
    },
    {
      "cell_type": "code",
      "source": [
        "os.environ[\"GOOGLE_API_KEY\"] = getpass(\"Enter your Gemini API key: \")\n",
        "base_model = ChatGoogleGenerativeAI(\n",
        "    model=\"gemini-2.0-flash\",\n",
        "    google_api_key=os.environ[\"GOOGLE_API_KEY\"]\n",
        ")"
      ],
      "metadata": {
        "colab": {
          "base_uri": "https://localhost:8080/"
        },
        "id": "W3hn1_CEwRKk",
        "outputId": "84adf3a6-0bf1-4b93-efb2-1bd4de00d756"
      },
      "execution_count": 22,
      "outputs": [
        {
          "name": "stdout",
          "output_type": "stream",
          "text": [
            "Enter your Gemini API key: ··········\n"
          ]
        }
      ]
    },
    {
      "cell_type": "code",
      "source": [
        "researcher_model = base_model.bind_tools(researcher_tools)\n",
        "analyst_model = base_model.bind_tools(analyst_tools)\n",
        "decision_maker_model = base_model.bind_tools(decision_maker_tools)"
      ],
      "metadata": {
        "id": "BBPG0UHLwTWV"
      },
      "execution_count": 23,
      "outputs": []
    },
    {
      "cell_type": "code",
      "source": [
        "def researcher_agent(state: AgentState) -> AgentState:\n",
        "    system_prompt = SystemMessage(content=\"You are a Researcher AI.\")\n",
        "    messages = [system_prompt] + [msg for msg in state[\"messages\"] if hasattr(msg, 'content') and msg.content]\n",
        "    response = researcher_model.invoke(messages)\n",
        "    return {\"messages\": state[\"messages\"] + [response]}\n",
        "\n",
        "def analyst_agent(state: AgentState) -> AgentState:\n",
        "    system_prompt = SystemMessage(content=\"You are an Analyst AI. Handle math and calculations.\")\n",
        "    messages = [system_prompt] + [msg for msg in state[\"messages\"] if hasattr(msg, 'content') and msg.content]\n",
        "    response = analyst_model.invoke(messages)\n",
        "    return {\"messages\": state[\"messages\"] + [response]}\n",
        "\n",
        "def decision_maker_agent(state: AgentState) -> AgentState:\n",
        "    system_prompt = SystemMessage(content=\"You are a Decision Maker AI. Provide weather and fashion advice.\")\n",
        "    messages = [system_prompt] + [msg for msg in state[\"messages\"] if hasattr(msg, 'content') and msg.content]\n",
        "    response = decision_maker_model.invoke(messages)\n",
        "    return {\"messages\": state[\"messages\"] + [response]}"
      ],
      "metadata": {
        "id": "x9E2lDbL5ozc"
      },
      "execution_count": 24,
      "outputs": []
    },
    {
      "cell_type": "code",
      "source": [
        "def route_agent(state: AgentState) -> str:\n",
        "    last_message = state[\"messages\"][-1]\n",
        "    user_text = last_message.content.lower()\n",
        "\n",
        "    if any(word in user_text for word in [\"add\", \"subtract\", \"multiply\", \"calculate\", \"evaluate\",\"*\",\"-\",\"+\"]):\n",
        "        return \"analyst\"\n",
        "    elif any(word in user_text for word in [\"weather\", \"temperature\", \"forecast\", \"fashion\", \"trend\", \"trending\"]):\n",
        "        return \"decision_maker\"\n",
        "    else:\n",
        "        return \"researcher\""
      ],
      "metadata": {
        "id": "E42QN05PwjVy"
      },
      "execution_count": 25,
      "outputs": []
    },
    {
      "cell_type": "code",
      "source": [
        "graph = StateGraph(AgentState)\n",
        "\n",
        "graph.add_node(\"researcher\", researcher_agent)\n",
        "graph.add_node(\"analyst\", analyst_agent)\n",
        "graph.add_node(\"decision_maker\", decision_maker_agent)"
      ],
      "metadata": {
        "colab": {
          "base_uri": "https://localhost:8080/"
        },
        "id": "SblL21PTwoHy",
        "outputId": "9e4567fc-d9e3-4152-c440-b5a2f865186e"
      },
      "execution_count": 26,
      "outputs": [
        {
          "output_type": "execute_result",
          "data": {
            "text/plain": [
              "<langgraph.graph.state.StateGraph at 0x7f36f459de50>"
            ]
          },
          "metadata": {},
          "execution_count": 26
        }
      ]
    },
    {
      "cell_type": "code",
      "source": [
        "def should_continue(state: AgentState):\n",
        "    last_message = state[\"messages\"][-1]\n",
        "    if hasattr(last_message, \"tool_calls\") and last_message.tool_calls:\n",
        "        return \"continue\"\n",
        "    return \"end\""
      ],
      "metadata": {
        "id": "ai6qOR4Cw01J"
      },
      "execution_count": 27,
      "outputs": []
    },
    {
      "cell_type": "code",
      "source": [
        "agent_functions = {\n",
        "    \"analyst\": analyst_agent,\n",
        "    \"decision_maker\": decision_maker_agent,\n",
        "    \"researcher\": researcher_agent\n",
        "}\n",
        "def entry_point(state: AgentState) -> AgentState:\n",
        "    last_message = state[\"messages\"][-1]\n",
        "    if not getattr(last_message, \"content\", \"\").strip():\n",
        "        return state\n",
        "\n",
        "    agent_key = route_agent(state)\n",
        "    return agent_functions[agent_key](state)\n",
        "\n",
        "graph.add_node(\"entry\", entry_point)\n",
        "graph.set_entry_point(\"entry\")"
      ],
      "metadata": {
        "colab": {
          "base_uri": "https://localhost:8080/"
        },
        "id": "oRVjm05MxbYo",
        "outputId": "1811e7c9-60ef-4e7e-d5de-87d4b4909194"
      },
      "execution_count": 28,
      "outputs": [
        {
          "output_type": "execute_result",
          "data": {
            "text/plain": [
              "<langgraph.graph.state.StateGraph at 0x7f36f459de50>"
            ]
          },
          "metadata": {},
          "execution_count": 28
        }
      ]
    },
    {
      "cell_type": "code",
      "source": [
        "graph.add_conditional_edges(\"entry\", route_agent, {\n",
        "    \"researcher\": \"researcher\",\n",
        "    \"analyst\": \"analyst\",\n",
        "    \"decision_maker\": \"decision_maker\"\n",
        "})\n"
      ],
      "metadata": {
        "colab": {
          "base_uri": "https://localhost:8080/"
        },
        "id": "EAUZgCz43sRo",
        "outputId": "7e0e70d8-99b1-4c1c-efe6-ca1b0b467dda"
      },
      "execution_count": 29,
      "outputs": [
        {
          "output_type": "execute_result",
          "data": {
            "text/plain": [
              "<langgraph.graph.state.StateGraph at 0x7f36f459de50>"
            ]
          },
          "metadata": {},
          "execution_count": 29
        }
      ]
    },
    {
      "cell_type": "code",
      "source": [
        "graph.add_conditional_edges(\"researcher\", should_continue,\n",
        " {\n",
        "    \"continue\": \"researcher\",\n",
        "    \"end\": END\n",
        "    })\n",
        "graph.add_conditional_edges(\"analyst\", should_continue,\n",
        " {\n",
        "     \"continue\": \"analyst\",\n",
        "     \"end\": END\n",
        "     })\n",
        "graph.add_conditional_edges(\"decision_maker\", should_continue,\n",
        " {\n",
        "     \"continue\": \"decision_maker\",\n",
        "     \"end\": END\n",
        "  })\n",
        "\n",
        "app = graph.compile()"
      ],
      "metadata": {
        "id": "XbwgzBDdxee3"
      },
      "execution_count": 30,
      "outputs": []
    },
    {
      "cell_type": "code",
      "source": [
        "from IPython.display import Image, display\n",
        "display(Image(app.get_graph().draw_mermaid_png()))"
      ],
      "metadata": {
        "colab": {
          "base_uri": "https://localhost:8080/",
          "height": 448
        },
        "id": "TSlPFvWHxs4Q",
        "outputId": "412fd996-1c1f-469b-b686-78b5e8e38ba1"
      },
      "execution_count": 31,
      "outputs": [
        {
          "output_type": "display_data",
          "data": {
            "image/png": "[encoded data removed]",
            "text/plain": [
              "<IPython.core.display.Image object>"
            ]
          },
          "metadata": {}
        }
      ]
    },
    {
      "cell_type": "code",
      "source": [
        "def print_stream(stream):\n",
        "    for s in stream:\n",
        "        message = s[\"messages\"][-1]\n",
        "        if isinstance(message, tuple):\n",
        "            print(message)\n",
        "        else:\n",
        "            message.pretty_print()"
      ],
      "metadata": {
        "id": "U7UHSArZzNRF"
      },
      "execution_count": 32,
      "outputs": []
    },
    {
      "cell_type": "code",
      "source": [
        "inputs = {\"messages\": [(\"user\", \"Add 40 + 12 and then multiply the result by 6. Also tell me a joke please.\")]}\n",
        "print_stream(app.stream(inputs, stream_mode=\"values\"))\n",
        "\n",
        "inputs = {\"messages\": [(\"user\", \"What's the weather in Tokyo?\")]}\n",
        "print_stream(app.stream(inputs, stream_mode=\"values\"))\n",
        "\n",
        "inputs = {\"messages\": [(\"user\", \"What’s trending in Paris fashion?\")]}\n",
        "print_stream(app.stream(inputs, stream_mode=\"values\"))\n",
        "\n",
        "inputs = {\"messages\": [(\"user\", \"Multiply 7 and 8\")]}\n",
        "print_stream(app.stream(inputs, stream_mode=\"values\"))\n",
        "\n",
        "inputs = {\"messages\": [(\"user\", \"Add 10 + 2 * 3\")]}\n",
        "print_stream(app.stream(inputs, stream_mode=\"values\"))"
      ],
      "metadata": {
        "colab": {
          "base_uri": "https://localhost:8080/"
        },
        "id": "EYIYr0OuzY9s",
        "outputId": "173cd4f0-1cfc-43d0-bb56-6144df0d17a3"
      },
      "execution_count": 33,
      "outputs": [
        {
          "output_type": "stream",
          "name": "stdout",
          "text": [
            "================================\u001b[1m Human Message \u001b[0m=================================\n",
            "\n",
            "Add 40 + 12 and then multiply the result by 6. Also tell me a joke please.\n",
            "==================================\u001b[1m Ai Message \u001b[0m==================================\n",
            "Tool Calls:\n",
            "  add (a19ecb53-2948-476e-8111-72ef2a0ac36c)\n",
            " Call ID: a19ecb53-2948-476e-8111-72ef2a0ac36c\n",
            "  Args:\n",
            "    a: 40.0\n",
            "    b: 12.0\n",
            "==================================\u001b[1m Ai Message \u001b[0m==================================\n",
            "\n",
            "Okay, I can do that!\n",
            "\n",
            "*   40 + 12 = 52\n",
            "*   52 x 6 = 312\n",
            "\n",
            "So, the answer is 312.\n",
            "\n",
            "Here's a joke for you:\n",
            "\n",
            "Why don't scientists trust atoms?\n",
            "\n",
            "Because they make up everything!\n",
            "================================\u001b[1m Human Message \u001b[0m=================================\n",
            "\n",
            "What's the weather in Tokyo?\n",
            "==================================\u001b[1m Ai Message \u001b[0m==================================\n",
            "Tool Calls:\n",
            "  open_weather_map (6ad8a46d-e78a-4a94-bca4-ae0193ec015a)\n",
            " Call ID: 6ad8a46d-e78a-4a94-bca4-ae0193ec015a\n",
            "  Args:\n",
            "    location: Tokyo\n",
            "==================================\u001b[1m Ai Message \u001b[0m==================================\n",
            "\n",
            "I can access general weather information for Tokyo, but to give you the most accurate and up-to-date report, I need to know where you are getting your weather information.\n",
            "\n",
            "For example, are you interested in:\n",
            "\n",
            "*   **The current weather conditions (temperature, humidity, wind, etc.)?**\n",
            "*   **The forecast for today or the next few days?**\n",
            "*   **A specific location within Tokyo (as the weather can vary slightly across the city)?**\n",
            "*   **Are you planning to travel to Tokyo soon and want to know the weather for a specific date?**\n",
            "\n",
            "Once I understand what you're looking for, I can provide a helpful response.\n",
            "================================\u001b[1m Human Message \u001b[0m=================================\n",
            "\n",
            "What’s trending in Paris fashion?\n",
            "==================================\u001b[1m Ai Message \u001b[0m==================================\n",
            "Tool Calls:\n",
            "  fashion_recommender (0d22a36b-ea55-4850-b202-fde7a77f3f48)\n",
            " Call ID: 0d22a36b-ea55-4850-b202-fde7a77f3f48\n",
            "  Args:\n",
            "    location: Paris\n",
            "==================================\u001b[1m Ai Message \u001b[0m==================================\n",
            "\n",
            "Okay, let's dive into what's trending in Paris fashion right now.  Because Paris is such a central fashion hub, trends evolve quickly, and there are always multiple currents flowing.  Here's a breakdown of some key themes and specific trends I'm seeing:\n",
            "\n",
            "**Overall Themes & Influences:**\n",
            "\n",
            "*   **Quiet Luxury/Stealth Wealth:**  This is still a dominant force.  Think understated elegance, high-quality materials, and timeless silhouettes.  The focus is on investment pieces rather than flashy logos.\n",
            "*   **Return to Classicism:**  There's a renewed appreciation for classic French style – think perfectly tailored blazers, trench coats, and little black dresses. These are being reinterpreted with modern twists.\n",
            "*   **Sustainability and Conscious Consumption:**  While not a \"trend\" in the fleeting sense, it's a significant movement.  Designers are increasingly focusing on sustainable materials, ethical production, and circular fashion models. Vintage and secondhand shopping are also very popular.\n",
            "*   **Empowerment and Femininity:** Clothes that feel powerful and put-together, but also celebrate the female form are in.\n",
            "\n",
            "**Specific Trends:**\n",
            "\n",
            "*   **Silhouettes:**\n",
            "    *   **Oversized Outerwear:**  Think long, enveloping coats, oversized blazers (often with strong shoulders), and roomy trench coats. Volume is key.\n",
            "    *   **Wide-Leg Trousers:**  These continue to be popular, offering a relaxed yet sophisticated alternative to skinny jeans.\n",
            "    *   **Bodycon dresses:** Bodycon dresses are back!\n",
            "    *   **Mini Skirts:** Mini skirts are trending, but they're being styled in a sophisticated way.\n",
            "*   **Colors:**\n",
            "    *   **Neutrals:**  Beige, cream, gray, black, and navy are still the foundation of the Parisian wardrobe.\n",
            "    *   **Burgundy:** A popular accent color, adding a touch of richness and sophistication.\n",
            "    *   **Pastels:** Muted pastels like lavender, baby blue, and soft pink are making appearances, especially in spring and summer collections.\n",
            "    *   **Red:** Red is a trending color, especially when paired with neutrals.\n",
            "*   **Materials & Details:**\n",
            "    *   **Leather:** Leather jackets, trousers, skirts, and even dresses are prominent.\n",
            "    *   **Knitwear:** High-quality knitwear, from cashmere sweaters to chunky cardigans, is essential.\n",
            "    *   **Sheer Fabrics:** Sheer tops, dresses, and skirts are being used to add a touch of sensuality and modernity.\n",
            "    *   **Embroidery & Appliqué:** Subtle embellishments are adding interest to classic pieces.\n",
            "*   **Accessories:**\n",
            "    *   **Structured Handbags:** Classic, structured handbags in high-quality leather are a must-have.\n",
            "    *   **Ballet Flats:** Ballet flats are back in a big way, offering a comfortable and chic alternative to heels.\n",
            "    *   **Statement Belts:** Used to cinch the waist and add definition to oversized silhouettes.\n",
            "    *   **Delicate Jewelry:** Simple, elegant jewelry like gold hoops, delicate necklaces, and minimalist rings.\n",
            "    *   **Scarves:** Silk scarves are still a Parisian staple, worn around the neck, in the hair, or tied to handbags.\n",
            "\n",
            "**How to Get the Parisian Look:**\n",
            "\n",
            "*   **Invest in quality basics:**  A well-cut blazer, a classic trench coat, a cashmere sweater, and a pair of well-fitting trousers are essential.\n",
            "*   **Focus on fit:**  Clothes should fit impeccably. Tailoring is key.\n",
            "*   **Keep it simple:**  Avoid over-accessorizing or wearing too many trends at once.\n",
            "*   **Embrace effortless chic:**  The Parisian look is all about appearing effortlessly stylish.\n",
            "*   **Confidence is key:**  Wear what makes you feel good and confident.\n",
            "\n",
            "**Where to Look for Inspiration:**\n",
            "\n",
            "*   **Paris Fashion Week:**  Keep an eye on the latest runway shows from Paris Fashion Week for the most cutting-edge trends.\n",
            "*   **Street Style:**  Follow Parisian street style photographers and influencers on social media for real-life inspiration.\n",
            "*   **French Fashion Magazines:**  Magazines like *Vogue Paris*, *Elle France*, and *Marie Claire France* offer insights into the latest trends and designers.\n",
            "*   **French Fashion Brands:** Look to brands like Chanel, Dior, Saint Laurent, Celine, Isabel Marant, and Sézane for inspiration.\n",
            "\n",
            "Fashion is constantly evolving, so stay curious and adapt these trends to your own personal style.\n",
            "================================\u001b[1m Human Message \u001b[0m=================================\n",
            "\n",
            "Multiply 7 and 8\n",
            "==================================\u001b[1m Ai Message \u001b[0m==================================\n",
            "Tool Calls:\n",
            "  multiply (5533cc06-2b4b-4f86-8de7-71e71167db40)\n",
            " Call ID: 5533cc06-2b4b-4f86-8de7-71e71167db40\n",
            "  Args:\n",
            "    a: 7.0\n",
            "    b: 8.0\n",
            "==================================\u001b[1m Ai Message \u001b[0m==================================\n",
            "\n",
            "7 multiplied by 8 is 56.\n",
            "================================\u001b[1m Human Message \u001b[0m=================================\n",
            "\n",
            "Add 10 + 2 * 3\n",
            "==================================\u001b[1m Ai Message \u001b[0m==================================\n",
            "Tool Calls:\n",
            "  evaluate_expression (55240092-e9ec-4477-bb8c-9487d871ffbf)\n",
            " Call ID: 55240092-e9ec-4477-bb8c-9487d871ffbf\n",
            "  Args:\n",
            "    expression: 10 + 2 * 3\n",
            "==================================\u001b[1m Ai Message \u001b[0m==================================\n",
            "\n",
            "16\n"
          ]
        }
      ]
    },
    {
      "cell_type": "code",
      "source": [],
      "metadata": {
        "id": "XdhXcaIkzdvo"
      },
      "execution_count": 33,
      "outputs": []
    }
  ]
}